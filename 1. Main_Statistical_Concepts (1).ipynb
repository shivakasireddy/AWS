{
 "cells": [
  {
   "cell_type": "markdown",
   "metadata": {},
   "source": [
    "One of the most important disciplines that data science refers is statistics. It is not possible to be a good data scientist without a good statistical basis. Data science takes advantage of statistics in data science applications and interpretation.\n",
    "\n",
    "Therefore, some basic tools and theories to be used in a statistical analysis will be discussed in this less. These:\n",
    "\n",
    "1. Variables and Types of Variables <br>\n",
    "&emsp;1.1. Quantitative and Qualitative Variables <br>\n",
    "&emsp;1.2. Continuous and Discrete Variables <br>\n",
    "2. Measures of Central Tendency <br>\n",
    "&emsp;2.1. Mean <br>\n",
    "&emsp;2.2. Median <br>\n",
    "&emsp;2.3. Mode <br>\n",
    "3. Measure of Dispersion <br>\n",
    "&emsp;3.1. Variance <br>\n",
    "&emsp;3.2. Standard deviation <br>\n",
    "&emsp;3.3. Standard error <br>\n",
    "\n",
    "These issues will provide a basis for the statistical aspect of data science. We will study other concepts and theories related to statistics in the following lessons."
   ]
  },
  {
   "cell_type": "code",
   "execution_count": null,
   "metadata": {},
   "outputs": [],
   "source": []
  },
  {
   "cell_type": "markdown",
   "metadata": {},
   "source": [
    "# 1. Variables and Types of Variables"
   ]
  },
  {
   "cell_type": "markdown",
   "metadata": {},
   "source": [
    "Properties that differ from one particular situation or one experiment to another are called variables. Variables can take different types and can generally be distinguished as follows:"
   ]
  },
  {
   "cell_type": "markdown",
   "metadata": {},
   "source": [
    "## 1.1. Quantitative and Qualitative Variables"
   ]
  },
  {
   "cell_type": "markdown",
   "metadata": {},
   "source": [
    "If the variable can be expressed numerically, it is called a quantitative variable. If this variable is represented by symbols, it is called a qualitative variable."
   ]
  },
  {
   "cell_type": "markdown",
   "metadata": {},
   "source": [
    "## 1.2. Continuous and Discrete Variables"
   ]
  },
  {
   "cell_type": "markdown",
   "metadata": {},
   "source": [
    "A continuous variable is a variable that can take an infinite number of values between any two values. For example, rational numbers between 0 and 1. Discrete variables are variables that can have limited values between two values. For instance, the number of customers traded by the clerk at the bank for 10 minutes is a discrete variable."
   ]
  },
  {
   "cell_type": "code",
   "execution_count": 6,
   "metadata": {},
   "outputs": [
    {
     "name": "stdout",
     "output_type": "stream",
     "text": [
      "0    a\n",
      "1    b\n",
      "2    c\n",
      "3    d\n",
      "dtype: category\n",
      "Categories (4, object): ['a', 'b', 'c', 'd']\n",
      "0    1\n",
      "1    3\n",
      "2    5\n",
      "3    7\n",
      "4    9\n",
      "dtype: int64\n"
     ]
    }
   ],
   "source": [
    "# Example\n",
    "\n",
    "# First, let's import the Pandas library\n",
    "import pandas as pd\n",
    "\n",
    "# Qualitative Variable\n",
    "qualitative = pd.Series(['a', 'b', 'c', 'd'], dtype=\"category\")\n",
    "print(qualitative)\n",
    "\n",
    "# Quantitative Variable\n",
    "quantitative = pd.Series([1, 3, 5, 7, 9])\n",
    "print(quantitative)"
   ]
  },
  {
   "cell_type": "markdown",
   "metadata": {},
   "source": [
    "# 2. Measures of Central Tendency"
   ]
  },
  {
   "cell_type": "markdown",
   "metadata": {},
   "source": [
    "Through the central tendency, the central value is shown where the values of a variable in the population are gathered. The most basic central tendency measures are mean or average, median and mode.\n",
    "\n",
    "On the other hand, dispersion measures are a measure of how different the values of the variable are from each other. The most commonly used measures of variance are variance, standard deviation and standard error.\n",
    "\n",
    "Each unit measurement with a variable is a data point. Let's create a data frame with Pandas to work on:"
   ]
  },
  {
   "cell_type": "code",
   "execution_count": 7,
   "metadata": {},
   "outputs": [
    {
     "name": "stdout",
     "output_type": "stream",
     "text": [
      "[78.57566284 67.13658748 70.88215374 52.92437085 71.69771969 64.93659081\n",
      " 72.10130355 83.82546544 57.81080491 80.98131952 60.10653721 74.12633318\n",
      " 76.42154678 57.93455086 78.63311401 61.40072153 57.38067993 64.64370559\n",
      " 68.81743776 50.97138047 50.02091366 76.00760741 50.79211904 60.42611994\n",
      " 62.10857322 62.09037666 65.65317896 79.34734827 57.69250037 86.41000916\n",
      " 73.78830494 68.16396782 66.75764027 64.69214561 72.37237909 76.15003309\n",
      " 56.04244818 75.36951694 87.82908558 65.02092578 67.90638481 68.7781758\n",
      " 67.82588747 68.59753014 67.82547637 71.9218289  57.56628698 73.20551966\n",
      " 61.12036175 63.63421829 71.38549344 70.83416921 65.81798641 67.69037485\n",
      " 73.9501901  69.95928054 67.25156291 66.88035034 65.72759444 75.40305263\n",
      " 62.30115791 71.18778441 71.63021872 62.11505497 65.78231595 68.05203888\n",
      " 73.10797311 56.92649057 71.40752671 66.87425954 75.97730803 70.24243477\n",
      " 60.84869164 69.0156401  69.72237105 92.87884874 73.35550655 70.28194111\n",
      " 68.27720415 78.6956621  63.64976061 66.184075   65.4138521  76.62065511\n",
      " 69.51138931 58.01433932 72.02248676 65.68808315 76.23998576 76.63368868\n",
      " 69.20244422 69.29504893 90.9910416  63.13561848 72.17470508 68.11882786\n",
      " 80.97515649 66.28011144 65.07604669 67.23149585 53.02791508 57.84332896\n",
      " 74.43924153 80.28602799 56.74812484 55.96888674 70.09577329 62.99732659\n",
      " 66.63966201 66.28115103 59.37079105 61.89462361 71.27861212 62.40906607\n",
      " 60.53432917 67.15745896 64.77327161 62.26436143 63.75814686 62.14330519\n",
      " 66.62294882 56.71159268 64.21938251 67.1585379  69.48965804 57.58684861\n",
      " 59.90432775 70.9109702  69.80486594 60.38786709 59.22153673 53.64259887\n",
      " 57.71652793 59.84832964 57.45944424 66.68671976 58.42311987 69.82865074\n",
      " 59.96789842 53.73944566 74.57573363 69.20298883 60.57530852 67.00479385\n",
      " 59.39157828 68.27861061 68.37648352 63.92083534 61.78905649 71.22888405\n",
      " 67.04339914 59.55551272 61.76492457 64.76384902 55.71735873 59.22001698\n",
      " 61.50550632 62.82173873 64.03716002 67.76665347 58.30150289 74.21089037\n",
      " 70.95098453 59.42064348 62.80853598 66.36100763 70.12422903 62.98207709\n",
      " 62.28202514 72.48487723 59.26122207 66.80898992 58.89987008 61.07400306\n",
      " 60.94128661 60.36283878 61.646285   64.77005894 68.19469865 65.04450148\n",
      " 64.70367418 57.36712909 62.59782    67.95185876 67.76197737 63.45759676\n",
      " 65.3022776  65.69594977 62.04814415 72.58745527 66.936298   63.96002304\n",
      " 57.17037462 61.5895163  64.0499309  65.64653598 69.62616194 65.95666609\n",
      " 69.20195253 70.42340038]\n"
     ]
    }
   ],
   "source": [
    "# Import NumPy\n",
    "import numpy as np\n",
    "\n",
    "# We already import the Pandas library before\n",
    "df = pd.DataFrame()\n",
    "\n",
    "# Let's define a dataset to an empty data frame\n",
    "df['age'] = [28, 42, 27, 24, 35, 54, 35, 37]\n",
    "\n",
    "# Arbitrarily draw samples from normal distribution\n",
    "\n",
    "random = np.append(np.random.normal(69, 8, 100), np.random.normal(64, 5, 100))\n",
    "print(random)"
   ]
  },
  {
   "cell_type": "markdown",
   "metadata": {},
   "source": [
    "As mentioned above, the central tendency defines the clustering formed by data points around that point and can be measured by a couple of methods, such as mean, median, or mode. In short, it addresses the question of \"Do central tendency measures and values tend to cluster around a particular point?\"\n",
    "\n",
    "## 2.1. Mean\n",
    "\n",
    "It is the number obtained by summing all the values of a variable and then dividing it by the number of observations. It is also defined as the expected value of the variable.\n",
    "\n",
    "$$ mean = sum (x) / n$$\n",
    "\n",
    "Let's try 2 ways to calculate the mean of the age data below. First with the Python standard library, and then with NumPy:"
   ]
  },
  {
   "cell_type": "code",
   "execution_count": 3,
   "metadata": {},
   "outputs": [
    {
     "name": "stdout",
     "output_type": "stream",
     "text": [
      "35.25\n",
      "67.24180314923574\n"
     ]
    }
   ],
   "source": [
    "# Calculation based on Built-in Python code\n",
    "sum(df['age']) / len(df['age'])\n",
    "\n",
    "sum(random)/len(random)\n",
    "\n",
    "print(np.mean(df['age']))\n",
    "print(np.mean(random))"
   ]
  },
  {
   "cell_type": "markdown",
   "metadata": {},
   "source": [
    "The mean is easy to understand and is therefore common to use. But, keep in mind that, it is sensitive to extreme values in the data: if you take a very large number and put it into a sample with small in value data, the effect on the average will be very significant. At this point, it is important to remember that each measure has its own advantages and disadvantages and it is best to decide which of these three indicators to use by looking at the data. Because, the structure of a data can be best represented by using the mean from the central tendency measures, while another data structure can be best represented by mode or median.\n",
    "\n",
    "## 2.2. Median\n",
    "\n",
    "The median value is the middle value when sorted from small to large. If there is an odd number of values, the middle value is the median, if there is an even number of values, it is the average of the two values in the middle.\n",
    "\n",
    "\n",
    "Here is an example of the median age that you can calculate with the statistics module from the Python standard library:"
   ]
  },
  {
   "cell_type": "code",
   "execution_count": 4,
   "metadata": {},
   "outputs": [
    {
     "name": "stdout",
     "output_type": "stream",
     "text": [
      "35.0\n",
      "35.0\n"
     ]
    }
   ],
   "source": [
    "# Import Python library\n",
    "import statistics\n",
    "\n",
    "print(statistics.median(df['age']))\n",
    "\n",
    "# or with numpy\n",
    "print(np.median(df['age']))"
   ]
  },
  {
   "cell_type": "markdown",
   "metadata": {},
   "source": [
    "## 2.3. Mode\n",
    "\n",
    "Mode shows the most frequent value in dataset. In other words, the mode analysis determines whether there is more than one clustering in the data. If two or more values repeat the same number, a double mode will occur. If you run the following code with data that contains double mode, you may get an error. The following code will be able to handle double mode data without creating exceptions, but you will get the first mode."
   ]
  },
  {
   "cell_type": "code",
   "execution_count": 5,
   "metadata": {},
   "outputs": [
    {
     "data": {
      "text/plain": [
       "35"
      ]
     },
     "execution_count": 5,
     "metadata": {},
     "output_type": "execute_result"
    }
   ],
   "source": [
    "# With Python\n",
    "import statistics\n",
    "statistics.mode(df['age'])"
   ]
  },
  {
   "cell_type": "code",
   "execution_count": 27,
   "metadata": {},
   "outputs": [
    {
     "data": {
      "text/plain": [
       "35"
      ]
     },
     "execution_count": 27,
     "metadata": {},
     "output_type": "execute_result"
    }
   ],
   "source": [
    "# Finding the most repeated data point in dataset\n",
    "(values, counts) = np.unique(df['age'], return_counts=True)\n",
    "\n",
    "# List the most repeated one\n",
    "ind = np.argmax(counts)\n",
    "\n",
    "# The most frequent element.\n",
    "values[ind]"
   ]
  },
  {
   "cell_type": "markdown",
   "metadata": {},
   "source": [
    "* A note on bias: The mean calculated from the sample is considered as an unbiased  estimate of the median and mode population. If an estimate is objective, it best represents the sample population. A biased observation would approach either a value above or below the population value. Bias can be briefly expressed as follows:"
   ]
  },
  {
   "cell_type": "markdown",
   "metadata": {},
   "source": [
    "$$Bias = Sample Mean-Population Mean$$"
   ]
  },
  {
   "cell_type": "markdown",
   "metadata": {},
   "source": [
    "Unbiased estimation is useful, allowing us to observe on a small group to generalize about a larger group. The applications we have shown in this course are on samples. As we will focus on the sample and the population in the last part of this lesson, we stop here."
   ]
  },
  {
   "cell_type": "markdown",
   "metadata": {},
   "source": [
    "# 3. Measure of Dispersion        \n",
    "\n",
    "## 3.1. Variance\n",
    "\n",
    "Although it is important to measure central tendency, it is not enough to understand a variable by itself. To do that, it is necessary to refer to the measures of dispersion. Another important indicator we need to look at to understand a variable is variance.\n",
    "\n",
    "The variance of one variable defines how much the values differ from the central tendency and how each value differs from the other. If all values in a variable are close to the central tendency, the variance will be very small. If the values are far from the central tendency, the variance will be very high.\n",
    "\n",
    "Another way to understand the variance is: The variance gives a hint about how valuable each data point is within the variable. If the variance is low, many data points are similar to the central tendency, so each data point can give little different information about the concept being measured. If the variance is high, each data point will be able to provide new and different information about the measurement.\n",
    "\n",
    "While many people find the mean and work on it, data scientists often work on variance. Because data scientists try to understand why the variable subject of the research behaves differently. The question of why is this store's margin higher than others? Why are the side effects of this drug so much less than other drugs? Why do some customers spend more time on the company's website? are related to variance. A variable with a high variance gives the pecularities about observations, so that data scientists use them to understand the future outcomes.\n",
    "\n",
    "The variance is calculated by dividing the sum of the squares of the difference of each data point to the average by one missing number of observations.\n",
    "\n",
    "$$\n",
    "v=\\frac{\\sum_i (x_i-\\mu)^2}{(n-1)}\n",
    "$$\n",
    "\n",
    "Here, $\\mu$ denotes the population mean.\n",
    "\n",
    "There are two weird observations in calculating variance. Why is the difference squared and why is it divided by (n-1) but not n?\n",
    "\n",
    "In response to the first question, if the difference is taken based on the mean, the sum would be zero because half would be negative and half would be positive. We make negative values useful by taking the square. Of course, we could calculate by taking the absolute value, so that we could use negative values. There are other mathematical benefits of squaring, which we will discuss later. The answer to why we received n-1 bias is not related to the discussion for now."
   ]
  },
  {
   "cell_type": "code",
   "execution_count": 13,
   "metadata": {},
   "outputs": [
    {
     "name": "stdout",
     "output_type": "stream",
     "text": [
      "92.5\n",
      "92.5\n"
     ]
    }
   ],
   "source": [
    "# Calculating the varince via NumPy and Pandas \n",
    "print(np.var(df['age'], ddof=1))\n",
    "print(df['age'].var())"
   ]
  },
  {
   "cell_type": "markdown",
   "metadata": {},
   "source": [
    "## 3.2. Standard deviation\n",
    "\n",
    "One of the most commonly used statistic to measure variability is the square root of variance, which we call standard deviation. There are some mathematical benefits of taking the square root of variance, but we will see this in more detail in explaining the central limit theorem in lessons ahead. Standard deviation formula is:\n",
    "\n",
    "$$\n",
    "s=\\sqrt v\n",
    "$$\n",
    "\n",
    "Numpy gives us the standard deviation with the np.std () function. Numpy has a deceptive nuance when calculating the standard deviation of the population. Instead of dividing by n-1, it divides by n. To calculate the standard deviation of the population, we manually need the ddof (degrees of freedom) parameter:"
   ]
  },
  {
   "cell_type": "code",
   "execution_count": 14,
   "metadata": {},
   "outputs": [
    {
     "data": {
      "text/plain": [
       "9.617692030835672"
      ]
     },
     "execution_count": 14,
     "metadata": {},
     "output_type": "execute_result"
    }
   ],
   "source": [
    "np.std(df['age'], ddof=1)"
   ]
  },
  {
   "cell_type": "markdown",
   "metadata": {},
   "source": [
    "## 3.3. Standard error\n",
    "\n",
    "Another indicator commonly used to determine the dispersion in the data is the standard error. The standard error is a measure of the uncertainty of the sample mean. Standard deviation gives us information about variance, while standard error gives us information about mean.\n",
    "\n",
    "Survey results are a good example of standard error utilization. It is commonly known as error margin. For example, a survey results say 44% supports X and 3% says there may be a standard error. In other words, when the selection is over, the results can be between 41% and 47%. The smaller the standard error, the more accurate the measurement means.\n",
    "\n",
    "The standard error is found by dividing the number of observations of the standard deviation by the square root:\n",
    "\n",
    "$$\n",
    "se=\\frac{s}{\\sqrt n}\n",
    "$$"
   ]
  },
  {
   "cell_type": "code",
   "execution_count": 15,
   "metadata": {},
   "outputs": [
    {
     "data": {
      "text/plain": [
       "3.4003676271838605"
      ]
     },
     "execution_count": 15,
     "metadata": {},
     "output_type": "execute_result"
    }
   ],
   "source": [
    "np.std(df['age'] ,ddof=1) / np.sqrt(len(df['age']))"
   ]
  },
  {
   "cell_type": "markdown",
   "metadata": {},
   "source": [
    "Let's see how more precise results can be obtained when we increase the number of samples. Now, let's create two variables: one with low volatility and one with high volatility:"
   ]
  },
  {
   "cell_type": "code",
   "execution_count": 16,
   "metadata": {},
   "outputs": [
    {
     "data": {
      "image/png": "[encoded data removed]",
      "text/plain": [
       "<Figure size 432x288 with 2 Axes>"
      ]
     },
     "metadata": {
      "needs_background": "light"
     },
     "output_type": "display_data"
    },
    {
     "name": "stdout",
     "output_type": "stream",
     "text": [
      "low_var      94.579522\n",
      "high_var    457.366082\n",
      "dtype: float64\n",
      "low_var      24.215736\n",
      "high_var   -302.671459\n",
      "dtype: float64\n"
     ]
    }
   ],
   "source": [
    "# Visualization\n",
    "import matplotlib.pyplot as plt\n",
    "\n",
    "\n",
    "# Empty DataFrame\n",
    "pop=pd.DataFrame()\n",
    "\n",
    "# Create two variables with mean of 60, standart deviations of 10 and 100 \n",
    "pop['low_var']=np.random.normal(60, 10, 10000)\n",
    "pop['high_var']=np.random.normal(60, 100, 10000)\n",
    "\n",
    "# Draw two different Histograms\n",
    "pop.hist(layout=(2, 1), sharex=True)\n",
    "plt.show()\n",
    "\n",
    "# her değişkenin minimum ve maksimum değerlerinin bulunması\n",
    "print(pop.max())\n",
    "print(pop.min())"
   ]
  },
  {
   "cell_type": "markdown",
   "metadata": {},
   "source": [
    "Let's compare the variable with the higher variance to the variable with the lower variance. As can be seen, the population with a high variance is more spread. This shows that this population has more value in the right and left tails. If these variables are the values of the two populations, we would take samples from each of them and generalize them. Now let's try this:"
   ]
  },
  {
   "cell_type": "code",
   "execution_count": 17,
   "metadata": {},
   "outputs": [
    {
     "data": {
      "image/png": "[encoded data removed]",
      "text/plain": [
       "<Figure size 432x288 with 2 Axes>"
      ]
     },
     "metadata": {
      "needs_background": "light"
     },
     "output_type": "display_data"
    },
    {
     "name": "stdout",
     "output_type": "stream",
     "text": [
      "low_var     61.284603\n",
      "high_var    67.640886\n",
      "dtype: float64\n",
      "low_var       8.192357\n",
      "high_var    106.668079\n",
      "dtype: float64\n"
     ]
    }
   ],
   "source": [
    "# Draw a sample from each variable with 100 observations\n",
    "sample=pd.DataFrame()\n",
    "sample['low_var'] = np.random.choice(pop['low_var'], 100)\n",
    "sample['high_var']=np.random.choice(pop['high_var'], 100)\n",
    "\n",
    "# Visialize it!\n",
    "sample.hist()\n",
    "plt.show()\n",
    "\n",
    "# Check how sample represents the population\n",
    "print(sample.mean())\n",
    "print(sample.std(ddof=1))"
   ]
  },
  {
   "cell_type": "markdown",
   "metadata": {},
   "source": [
    "Because the sample is randomly selected from the population, you can run the code again each time and try it on the new sample. We recommend you try it a few times. You will find that the sample with low variability is closer to the population mean and standard deviation than the sample with high variability.\n"
   ]
  },
  {
   "cell_type": "markdown",
   "metadata": {},
   "source": [
    "Each time a sample is selected from the population, we may draw outlier values from the extreme points of the distribution. Taking values from the extremes may shift the mean of the sample from the population mean. Therefore, high variability variables have greater potential to move away from the mean than low variables. We can address this problem by increasing the number of samples as much as possible. We will discuss this in detail later."
   ]
  },
  {
   "cell_type": "markdown",
   "metadata": {},
   "source": [
    "# A Practice</font>"
   ]
  },
  {
   "cell_type": "markdown",
   "metadata": {},
   "source": [
    "Thus far, We have discussed the statistics that we can use to get familiar with the variables in a data set in the section. Now we will discuss how we can use the tool power of data science. Especially with the Pandas library, we'll see how we can quickly and easily analyze data. When you have to summarize and / or explain the data you are working with, these are the processes you will use on a daily basis. Instead of dealing with formulas or calculations, you'll use these tools to get faster and more effective results."
   ]
  },
  {
   "cell_type": "code",
   "execution_count": 23,
   "metadata": {},
   "outputs": [],
   "source": [
    "## Forming a Data Frame and generating random number\n",
    "\n",
    "data = pd.DataFrame()\n",
    "data['gender'] = ['male'] * 100 + ['female'] * 100\n",
    "data['weight'] = np.append(np.random.normal(69, 8, 100), np.random.normal(64, 5, 100))\n",
    "data['height'] = np.append(np.random.normal(195, 25, 100), np.random.normal(166, 15, 100))"
   ]
  },
  {
   "cell_type": "code",
   "execution_count": 24,
   "metadata": {},
   "outputs": [
    {
     "name": "stdout",
     "output_type": "stream",
     "text": [
      "<class 'pandas.core.frame.DataFrame'>\n",
      "RangeIndex: 200 entries, 0 to 199\n",
      "Data columns (total 3 columns):\n",
      " #   Column  Non-Null Count  Dtype  \n",
      "---  ------  --------------  -----  \n",
      " 0   gender  200 non-null    object \n",
      " 1   height  200 non-null    float64\n",
      " 2   weight  200 non-null    float64\n",
      "dtypes: float64(2), object(1)\n",
      "memory usage: 4.8+ KB\n"
     ]
    }
   ],
   "source": [
    "## Info about the structure of the data\n",
    "data.info()"
   ]
  },
  {
   "cell_type": "code",
   "execution_count": 25,
   "metadata": {},
   "outputs": [
    {
     "data": {
      "text/html": [
       "<div>\n",
       "<style scoped>\n",
       "    .dataframe tbody tr th:only-of-type {\n",
       "        vertical-align: middle;\n",
       "    }\n",
       "\n",
       "    .dataframe tbody tr th {\n",
       "        vertical-align: top;\n",
       "    }\n",
       "\n",
       "    .dataframe thead th {\n",
       "        text-align: right;\n",
       "    }\n",
       "</style>\n",
       "<table border=\"1\" class=\"dataframe\">\n",
       "  <thead>\n",
       "    <tr style=\"text-align: right;\">\n",
       "      <th></th>\n",
       "      <th>gender</th>\n",
       "      <th>height</th>\n",
       "      <th>weight</th>\n",
       "    </tr>\n",
       "  </thead>\n",
       "  <tbody>\n",
       "    <tr>\n",
       "      <th>0</th>\n",
       "      <td>male</td>\n",
       "      <td>67.905989</td>\n",
       "      <td>169.750471</td>\n",
       "    </tr>\n",
       "    <tr>\n",
       "      <th>1</th>\n",
       "      <td>male</td>\n",
       "      <td>69.690347</td>\n",
       "      <td>240.599746</td>\n",
       "    </tr>\n",
       "    <tr>\n",
       "      <th>2</th>\n",
       "      <td>male</td>\n",
       "      <td>61.860261</td>\n",
       "      <td>204.205792</td>\n",
       "    </tr>\n",
       "    <tr>\n",
       "      <th>3</th>\n",
       "      <td>male</td>\n",
       "      <td>65.557632</td>\n",
       "      <td>158.390745</td>\n",
       "    </tr>\n",
       "    <tr>\n",
       "      <th>4</th>\n",
       "      <td>male</td>\n",
       "      <td>61.367418</td>\n",
       "      <td>238.342516</td>\n",
       "    </tr>\n",
       "  </tbody>\n",
       "</table>\n",
       "</div>"
      ],
      "text/plain": [
       "  gender     height      weight\n",
       "0   male  67.905989  169.750471\n",
       "1   male  69.690347  240.599746\n",
       "2   male  61.860261  204.205792\n",
       "3   male  65.557632  158.390745\n",
       "4   male  61.367418  238.342516"
      ]
     },
     "execution_count": 25,
     "metadata": {},
     "output_type": "execute_result"
    }
   ],
   "source": [
    "##  Info about first five lines\n",
    "data.head()"
   ]
  },
  {
   "cell_type": "code",
   "execution_count": 26,
   "metadata": {},
   "outputs": [
    {
     "data": {
      "text/plain": [
       "66.14376318915687"
      ]
     },
     "execution_count": 26,
     "metadata": {},
     "output_type": "execute_result"
    }
   ],
   "source": [
    "## The mean of height\n",
    "data.height.mean()"
   ]
  },
  {
   "cell_type": "code",
   "execution_count": 27,
   "metadata": {},
   "outputs": [
    {
     "data": {
      "text/plain": [
       "6.899596550170546"
      ]
     },
     "execution_count": 27,
     "metadata": {},
     "output_type": "execute_result"
    }
   ],
   "source": [
    "### The standard deviation of height\n",
    "data.height.std()"
   ]
  },
  {
   "cell_type": "code",
   "execution_count": 29,
   "metadata": {},
   "outputs": [
    {
     "name": "stdout",
     "output_type": "stream",
     "text": [
      "Weighted Mean: 181.6922\n"
     ]
    }
   ],
   "source": [
    "# Missing values in weight is replaced with the mean of the same variable\n",
    "# First find the mean of weight variable\n",
    "# Then fill the missing values with mean of it\n",
    "weight_mean = data.weight.mean()\n",
    "data.weight.fillna(weight_mean)\n",
    "print(\"Weighted Mean: {:.4f}\".format(weight_mean))"
   ]
  },
  {
   "cell_type": "markdown",
   "metadata": {},
   "source": [
    "There are many different ways to describe data in simple forms in Pandas. Statistics such as variance or median are available in Pandas so you don't have to deal with formulas.\n"
   ]
  },
  {
   "cell_type": "markdown",
   "metadata": {},
   "source": [
    "Important Note: If you are performing a statistical analysis, Python probably has a useful library somewhere. Usually what you are looking for will be in NumPy or Pandas. If you can't find what you're looking for in NumPy or Pandas, search for it immediately on Google, or create your own functions if you can't find anything."
   ]
  }
 ],
 "metadata": {
  "kernelspec": {
   "display_name": "Python 3 (ipykernel)",
   "language": "python",
   "name": "python3"
  },
  "language_info": {
   "codemirror_mode": {
    "name": "ipython",
    "version": 3
   },
   "file_extension": ".py",
   "mimetype": "text/x-python",
   "name": "python",
   "nbconvert_exporter": "python",
   "pygments_lexer": "ipython3",
   "version": "3.11.4"
  },
  "latex_envs": {
   "LaTeX_envs_menu_present": true,
   "autoclose": false,
   "autocomplete": true,
   "bibliofile": "biblio.bib",
   "cite_by": "apalike",
   "current_citInitial": 1,
   "eqLabelWithNumbers": true,
   "eqNumInitial": 1,
   "hotkeys": {
    "equation": "Ctrl-E",
    "itemize": "Ctrl-I"
   },
   "labels_anchors": false,
   "latex_user_defs": false,
   "report_style_numbering": false,
   "user_envs_cfg": false
  },
  "toc": {
   "base_numbering": 1,
   "nav_menu": {},
   "number_sections": false,
   "sideBar": true,
   "skip_h1_title": false,
   "title_cell": "Table of Contents",
   "title_sidebar": "Contents",
   "toc_cell": false,
   "toc_position": {},
   "toc_section_display": true,
   "toc_window_display": false
  }
 },
 "nbformat": 4,
 "nbformat_minor": 4
}
